{
 "cells": [
  {
   "cell_type": "markdown",
   "id": "999260e1",
   "metadata": {},
   "source": [
    "Implement K-Means clustering/ hierarchical clustering on sales_data_sample.csv dataset. Determine the number of clusters using the elbow method\n",
    "<br>\n",
    "Dataset link : https://www.kaggle.com/datasets/kyanyoga/sample-sales-data"
   ]
  },
  {
   "cell_type": "markdown",
   "id": "620f777f",
   "metadata": {},
   "source": [
    "Sample Sales Data, Order Info, Sales, Customer, Shipping, etc., Used for Segmentation, Customer Analytics, Clustering and More. Inspired for retail analytics. This was originally used for Pentaho DI Kettle, But I found the set could be useful for Sales Simulation training.\n",
    "\n",
    "Originally Written by María Carina Roldán, Pentaho Community Member, BI consultant (Assert Solutions), Argentina. This work is licensed under the Creative Commons Attribution-Noncommercial-Share Alike 3.0 Unported License. Modified by Gus Segura June 2014.\n",
    "\n"
   ]
  },
  {
   "cell_type": "code",
   "execution_count": 1,
   "id": "b3c739b4",
   "metadata": {},
   "outputs": [],
   "source": [
    "import pandas as pd\n",
    "import numpy as np\n",
    "import matplotlib.pyplot as plt\n",
    "import seaborn as sns\n",
    "sns.color_palette(\"Set2\")\n",
    "import datetime as dt"
   ]
  },
  {
   "cell_type": "code",
   "execution_count": 2,
   "id": "3f0d1110",
   "metadata": {},
   "outputs": [],
   "source": [
    "df = pd.read_csv('data/sales_data_sample.csv',encoding=\"Latin-1\")"
   ]
  },
  {
   "cell_type": "code",
   "execution_count": 3,
   "id": "f6804537",
   "metadata": {},
   "outputs": [
    {
     "name": "stdout",
     "output_type": "stream",
     "text": [
      "Loaded!\n"
     ]
    }
   ],
   "source": [
    "if ~df.empty:\n",
    "    print(\"Loaded!\")"
   ]
  },
  {
   "cell_type": "code",
   "execution_count": 4,
   "id": "04ebcf1b",
   "metadata": {},
   "outputs": [
    {
     "name": "stdout",
     "output_type": "stream",
     "text": [
      "(2823, 25)\n",
      "Index(['ORDERNUMBER', 'QUANTITYORDERED', 'PRICEEACH', 'ORDERLINENUMBER',\n",
      "       'SALES', 'ORDERDATE', 'STATUS', 'QTR_ID', 'MONTH_ID', 'YEAR_ID',\n",
      "       'PRODUCTLINE', 'MSRP', 'PRODUCTCODE', 'CUSTOMERNAME', 'PHONE',\n",
      "       'ADDRESSLINE1', 'ADDRESSLINE2', 'CITY', 'STATE', 'POSTALCODE',\n",
      "       'COUNTRY', 'TERRITORY', 'CONTACTLASTNAME', 'CONTACTFIRSTNAME',\n",
      "       'DEALSIZE'],\n",
      "      dtype='object')\n"
     ]
    }
   ],
   "source": [
    "print(df.shape)\n",
    "print(df.columns)"
   ]
  },
  {
   "cell_type": "code",
   "execution_count": 5,
   "id": "d6f2111b",
   "metadata": {},
   "outputs": [],
   "source": [
    "df.columns = df.columns.str.lower()"
   ]
  },
  {
   "cell_type": "code",
   "execution_count": 6,
   "id": "0a7d7e10",
   "metadata": {},
   "outputs": [
    {
     "name": "stdout",
     "output_type": "stream",
     "text": [
      "<class 'pandas.core.frame.DataFrame'>\n",
      "RangeIndex: 2823 entries, 0 to 2822\n",
      "Data columns (total 25 columns):\n",
      " #   Column            Non-Null Count  Dtype  \n",
      "---  ------            --------------  -----  \n",
      " 0   ordernumber       2823 non-null   int64  \n",
      " 1   quantityordered   2823 non-null   int64  \n",
      " 2   priceeach         2823 non-null   float64\n",
      " 3   orderlinenumber   2823 non-null   int64  \n",
      " 4   sales             2823 non-null   float64\n",
      " 5   orderdate         2823 non-null   object \n",
      " 6   status            2823 non-null   object \n",
      " 7   qtr_id            2823 non-null   int64  \n",
      " 8   month_id          2823 non-null   int64  \n",
      " 9   year_id           2823 non-null   int64  \n",
      " 10  productline       2823 non-null   object \n",
      " 11  msrp              2823 non-null   int64  \n",
      " 12  productcode       2823 non-null   object \n",
      " 13  customername      2823 non-null   object \n",
      " 14  phone             2823 non-null   object \n",
      " 15  addressline1      2823 non-null   object \n",
      " 16  addressline2      302 non-null    object \n",
      " 17  city              2823 non-null   object \n",
      " 18  state             1337 non-null   object \n",
      " 19  postalcode        2747 non-null   object \n",
      " 20  country           2823 non-null   object \n",
      " 21  territory         1749 non-null   object \n",
      " 22  contactlastname   2823 non-null   object \n",
      " 23  contactfirstname  2823 non-null   object \n",
      " 24  dealsize          2823 non-null   object \n",
      "dtypes: float64(2), int64(7), object(16)\n",
      "memory usage: 551.5+ KB\n"
     ]
    }
   ],
   "source": [
    "df.info()"
   ]
  },
  {
   "cell_type": "code",
   "execution_count": 7,
   "id": "ff7160c5",
   "metadata": {},
   "outputs": [
    {
     "data": {
      "text/html": [
       "<div>\n",
       "<style scoped>\n",
       "    .dataframe tbody tr th:only-of-type {\n",
       "        vertical-align: middle;\n",
       "    }\n",
       "\n",
       "    .dataframe tbody tr th {\n",
       "        vertical-align: top;\n",
       "    }\n",
       "\n",
       "    .dataframe thead th {\n",
       "        text-align: right;\n",
       "    }\n",
       "</style>\n",
       "<table border=\"1\" class=\"dataframe\">\n",
       "  <thead>\n",
       "    <tr style=\"text-align: right;\">\n",
       "      <th></th>\n",
       "      <th>ordernumber</th>\n",
       "      <th>quantityordered</th>\n",
       "      <th>priceeach</th>\n",
       "      <th>orderlinenumber</th>\n",
       "      <th>sales</th>\n",
       "      <th>orderdate</th>\n",
       "      <th>status</th>\n",
       "      <th>qtr_id</th>\n",
       "      <th>month_id</th>\n",
       "      <th>year_id</th>\n",
       "      <th>...</th>\n",
       "      <th>addressline1</th>\n",
       "      <th>addressline2</th>\n",
       "      <th>city</th>\n",
       "      <th>state</th>\n",
       "      <th>postalcode</th>\n",
       "      <th>country</th>\n",
       "      <th>territory</th>\n",
       "      <th>contactlastname</th>\n",
       "      <th>contactfirstname</th>\n",
       "      <th>dealsize</th>\n",
       "    </tr>\n",
       "  </thead>\n",
       "  <tbody>\n",
       "    <tr>\n",
       "      <th>0</th>\n",
       "      <td>10107</td>\n",
       "      <td>30</td>\n",
       "      <td>95.70</td>\n",
       "      <td>2</td>\n",
       "      <td>2871.00</td>\n",
       "      <td>2/24/2003 0:00</td>\n",
       "      <td>Shipped</td>\n",
       "      <td>1</td>\n",
       "      <td>2</td>\n",
       "      <td>2003</td>\n",
       "      <td>...</td>\n",
       "      <td>897 Long Airport Avenue</td>\n",
       "      <td>NaN</td>\n",
       "      <td>NYC</td>\n",
       "      <td>NY</td>\n",
       "      <td>10022</td>\n",
       "      <td>USA</td>\n",
       "      <td>NaN</td>\n",
       "      <td>Yu</td>\n",
       "      <td>Kwai</td>\n",
       "      <td>Small</td>\n",
       "    </tr>\n",
       "    <tr>\n",
       "      <th>1</th>\n",
       "      <td>10121</td>\n",
       "      <td>34</td>\n",
       "      <td>81.35</td>\n",
       "      <td>5</td>\n",
       "      <td>2765.90</td>\n",
       "      <td>5/7/2003 0:00</td>\n",
       "      <td>Shipped</td>\n",
       "      <td>2</td>\n",
       "      <td>5</td>\n",
       "      <td>2003</td>\n",
       "      <td>...</td>\n",
       "      <td>59 rue de l'Abbaye</td>\n",
       "      <td>NaN</td>\n",
       "      <td>Reims</td>\n",
       "      <td>NaN</td>\n",
       "      <td>51100</td>\n",
       "      <td>France</td>\n",
       "      <td>EMEA</td>\n",
       "      <td>Henriot</td>\n",
       "      <td>Paul</td>\n",
       "      <td>Small</td>\n",
       "    </tr>\n",
       "    <tr>\n",
       "      <th>2</th>\n",
       "      <td>10134</td>\n",
       "      <td>41</td>\n",
       "      <td>94.74</td>\n",
       "      <td>2</td>\n",
       "      <td>3884.34</td>\n",
       "      <td>7/1/2003 0:00</td>\n",
       "      <td>Shipped</td>\n",
       "      <td>3</td>\n",
       "      <td>7</td>\n",
       "      <td>2003</td>\n",
       "      <td>...</td>\n",
       "      <td>27 rue du Colonel Pierre Avia</td>\n",
       "      <td>NaN</td>\n",
       "      <td>Paris</td>\n",
       "      <td>NaN</td>\n",
       "      <td>75508</td>\n",
       "      <td>France</td>\n",
       "      <td>EMEA</td>\n",
       "      <td>Da Cunha</td>\n",
       "      <td>Daniel</td>\n",
       "      <td>Medium</td>\n",
       "    </tr>\n",
       "  </tbody>\n",
       "</table>\n",
       "<p>3 rows × 25 columns</p>\n",
       "</div>"
      ],
      "text/plain": [
       "   ordernumber  quantityordered  priceeach  orderlinenumber    sales  \\\n",
       "0        10107               30      95.70                2  2871.00   \n",
       "1        10121               34      81.35                5  2765.90   \n",
       "2        10134               41      94.74                2  3884.34   \n",
       "\n",
       "        orderdate   status  qtr_id  month_id  year_id  ...  \\\n",
       "0  2/24/2003 0:00  Shipped       1         2     2003  ...   \n",
       "1   5/7/2003 0:00  Shipped       2         5     2003  ...   \n",
       "2   7/1/2003 0:00  Shipped       3         7     2003  ...   \n",
       "\n",
       "                    addressline1  addressline2   city state postalcode  \\\n",
       "0        897 Long Airport Avenue           NaN    NYC    NY      10022   \n",
       "1             59 rue de l'Abbaye           NaN  Reims   NaN      51100   \n",
       "2  27 rue du Colonel Pierre Avia           NaN  Paris   NaN      75508   \n",
       "\n",
       "  country territory contactlastname contactfirstname dealsize  \n",
       "0     USA       NaN              Yu             Kwai    Small  \n",
       "1  France      EMEA         Henriot             Paul    Small  \n",
       "2  France      EMEA        Da Cunha           Daniel   Medium  \n",
       "\n",
       "[3 rows x 25 columns]"
      ]
     },
     "execution_count": 7,
     "metadata": {},
     "output_type": "execute_result"
    }
   ],
   "source": [
    "df.head(3)"
   ]
  },
  {
   "cell_type": "code",
   "execution_count": null,
   "id": "46ec2a23",
   "metadata": {},
   "outputs": [],
   "source": []
  },
  {
   "cell_type": "markdown",
   "id": "7e4ab6ea",
   "metadata": {},
   "source": [
    "### Preprocess dataset\n",
    "\n",
    "- Removing redundant features\n",
    "- Handling NA values\n",
    "- Removing duplicates\n",
    "- Feature construction\n",
    "- Categorical to quantitative\n",
    "- Handling outliers\n",
    "- Separating features from target variable\n",
    "- standardization\n",
    "- EDA and visualize\n",
    "\n",
    "### Model building\n",
    "\n",
    "- Train,test split\n",
    "- Model building\n",
    "- Model fitting\n",
    "- Model evaluation\n",
    "- Prediction"
   ]
  },
  {
   "cell_type": "code",
   "execution_count": 8,
   "id": "654afea9",
   "metadata": {},
   "outputs": [
    {
     "data": {
      "text/plain": [
       "dealsize               3\n",
       "territory              3\n",
       "year_id                3\n",
       "qtr_id                 4\n",
       "status                 6\n",
       "productline            7\n",
       "addressline2           9\n",
       "month_id              12\n",
       "state                 16\n",
       "orderlinenumber       18\n",
       "country               19\n",
       "quantityordered       58\n",
       "contactfirstname      72\n",
       "city                  73\n",
       "postalcode            73\n",
       "contactlastname       77\n",
       "msrp                  80\n",
       "phone                 91\n",
       "addressline1          92\n",
       "customername          92\n",
       "productcode          109\n",
       "orderdate            252\n",
       "ordernumber          307\n",
       "priceeach           1016\n",
       "sales               2763\n",
       "dtype: int64"
      ]
     },
     "execution_count": 8,
     "metadata": {},
     "output_type": "execute_result"
    }
   ],
   "source": [
    "#preprocessing\n",
    "df.nunique().sort_values()"
   ]
  },
  {
   "cell_type": "code",
   "execution_count": 9,
   "id": "a5791438",
   "metadata": {},
   "outputs": [],
   "source": [
    "#removing unnecessary data"
   ]
  },
  {
   "cell_type": "code",
   "execution_count": 10,
   "id": "d94989eb",
   "metadata": {},
   "outputs": [],
   "source": [
    "drop_features = [\"ordernumber\",\"contactfirstname\",\"contactlastname\",\"postalcode\",\"addressline2\",\"addressline1\",\"phone\",\"productcode\",'state',\"territory\"]\n",
    "df.drop(columns = drop_features,axis = 1,inplace=True)"
   ]
  },
  {
   "cell_type": "code",
   "execution_count": 11,
   "id": "8ceb9bd3",
   "metadata": {},
   "outputs": [
    {
     "data": {
      "text/html": [
       "<div>\n",
       "<style scoped>\n",
       "    .dataframe tbody tr th:only-of-type {\n",
       "        vertical-align: middle;\n",
       "    }\n",
       "\n",
       "    .dataframe tbody tr th {\n",
       "        vertical-align: top;\n",
       "    }\n",
       "\n",
       "    .dataframe thead th {\n",
       "        text-align: right;\n",
       "    }\n",
       "</style>\n",
       "<table border=\"1\" class=\"dataframe\">\n",
       "  <thead>\n",
       "    <tr style=\"text-align: right;\">\n",
       "      <th></th>\n",
       "      <th>frequency</th>\n",
       "      <th>priceeach</th>\n",
       "      <th>orderlinenumber</th>\n",
       "      <th>monetory</th>\n",
       "      <th>orderdate</th>\n",
       "      <th>status</th>\n",
       "      <th>quarter</th>\n",
       "      <th>month</th>\n",
       "      <th>year</th>\n",
       "      <th>productline</th>\n",
       "      <th>msrp</th>\n",
       "      <th>customername</th>\n",
       "      <th>city</th>\n",
       "      <th>country</th>\n",
       "      <th>dealsize</th>\n",
       "    </tr>\n",
       "  </thead>\n",
       "  <tbody>\n",
       "    <tr>\n",
       "      <th>0</th>\n",
       "      <td>30</td>\n",
       "      <td>95.70</td>\n",
       "      <td>2</td>\n",
       "      <td>2871.00</td>\n",
       "      <td>2/24/2003 0:00</td>\n",
       "      <td>Shipped</td>\n",
       "      <td>1</td>\n",
       "      <td>2</td>\n",
       "      <td>2003</td>\n",
       "      <td>Motorcycles</td>\n",
       "      <td>95</td>\n",
       "      <td>Land of Toys Inc.</td>\n",
       "      <td>NYC</td>\n",
       "      <td>USA</td>\n",
       "      <td>Small</td>\n",
       "    </tr>\n",
       "    <tr>\n",
       "      <th>1</th>\n",
       "      <td>34</td>\n",
       "      <td>81.35</td>\n",
       "      <td>5</td>\n",
       "      <td>2765.90</td>\n",
       "      <td>5/7/2003 0:00</td>\n",
       "      <td>Shipped</td>\n",
       "      <td>2</td>\n",
       "      <td>5</td>\n",
       "      <td>2003</td>\n",
       "      <td>Motorcycles</td>\n",
       "      <td>95</td>\n",
       "      <td>Reims Collectables</td>\n",
       "      <td>Reims</td>\n",
       "      <td>France</td>\n",
       "      <td>Small</td>\n",
       "    </tr>\n",
       "    <tr>\n",
       "      <th>2</th>\n",
       "      <td>41</td>\n",
       "      <td>94.74</td>\n",
       "      <td>2</td>\n",
       "      <td>3884.34</td>\n",
       "      <td>7/1/2003 0:00</td>\n",
       "      <td>Shipped</td>\n",
       "      <td>3</td>\n",
       "      <td>7</td>\n",
       "      <td>2003</td>\n",
       "      <td>Motorcycles</td>\n",
       "      <td>95</td>\n",
       "      <td>Lyon Souveniers</td>\n",
       "      <td>Paris</td>\n",
       "      <td>France</td>\n",
       "      <td>Medium</td>\n",
       "    </tr>\n",
       "  </tbody>\n",
       "</table>\n",
       "</div>"
      ],
      "text/plain": [
       "   frequency  priceeach  orderlinenumber  monetory       orderdate   status  \\\n",
       "0         30      95.70                2   2871.00  2/24/2003 0:00  Shipped   \n",
       "1         34      81.35                5   2765.90   5/7/2003 0:00  Shipped   \n",
       "2         41      94.74                2   3884.34   7/1/2003 0:00  Shipped   \n",
       "\n",
       "   quarter  month  year  productline  msrp        customername   city country  \\\n",
       "0        1      2  2003  Motorcycles    95   Land of Toys Inc.    NYC     USA   \n",
       "1        2      5  2003  Motorcycles    95  Reims Collectables  Reims  France   \n",
       "2        3      7  2003  Motorcycles    95     Lyon Souveniers  Paris  France   \n",
       "\n",
       "  dealsize  \n",
       "0    Small  \n",
       "1    Small  \n",
       "2   Medium  "
      ]
     },
     "execution_count": 11,
     "metadata": {},
     "output_type": "execute_result"
    }
   ],
   "source": [
    "df.rename(columns = {\n",
    "    \"month_id\":\"month\",\n",
    "    \"year_id\":\"year\",\n",
    "    \"qtr_id\":\"quarter\",\n",
    "    \"quantityordered\":\"frequency\",\n",
    "    \"sales\":\"monetory\"\n",
    "},inplace=True)\n",
    "\n",
    "df.head(3)"
   ]
  },
  {
   "cell_type": "code",
   "execution_count": 12,
   "id": "2cb52fc7",
   "metadata": {},
   "outputs": [],
   "source": [
    "#handling NA values"
   ]
  },
  {
   "cell_type": "code",
   "execution_count": 13,
   "id": "ed762dde",
   "metadata": {},
   "outputs": [
    {
     "data": {
      "text/html": [
       "<div>\n",
       "<style scoped>\n",
       "    .dataframe tbody tr th:only-of-type {\n",
       "        vertical-align: middle;\n",
       "    }\n",
       "\n",
       "    .dataframe tbody tr th {\n",
       "        vertical-align: top;\n",
       "    }\n",
       "\n",
       "    .dataframe thead th {\n",
       "        text-align: right;\n",
       "    }\n",
       "</style>\n",
       "<table border=\"1\" class=\"dataframe\">\n",
       "  <thead>\n",
       "    <tr style=\"text-align: right;\">\n",
       "      <th></th>\n",
       "      <th>frequency</th>\n",
       "      <th>priceeach</th>\n",
       "      <th>orderlinenumber</th>\n",
       "      <th>monetory</th>\n",
       "      <th>orderdate</th>\n",
       "      <th>status</th>\n",
       "      <th>quarter</th>\n",
       "      <th>month</th>\n",
       "      <th>year</th>\n",
       "      <th>productline</th>\n",
       "      <th>msrp</th>\n",
       "      <th>customername</th>\n",
       "      <th>city</th>\n",
       "      <th>country</th>\n",
       "      <th>dealsize</th>\n",
       "    </tr>\n",
       "  </thead>\n",
       "  <tbody>\n",
       "    <tr>\n",
       "      <th>NA values</th>\n",
       "      <td>0</td>\n",
       "      <td>0</td>\n",
       "      <td>0</td>\n",
       "      <td>0</td>\n",
       "      <td>0</td>\n",
       "      <td>0</td>\n",
       "      <td>0</td>\n",
       "      <td>0</td>\n",
       "      <td>0</td>\n",
       "      <td>0</td>\n",
       "      <td>0</td>\n",
       "      <td>0</td>\n",
       "      <td>0</td>\n",
       "      <td>0</td>\n",
       "      <td>0</td>\n",
       "    </tr>\n",
       "  </tbody>\n",
       "</table>\n",
       "</div>"
      ],
      "text/plain": [
       "           frequency  priceeach  orderlinenumber  monetory  orderdate  status  \\\n",
       "NA values          0          0                0         0          0       0   \n",
       "\n",
       "           quarter  month  year  productline  msrp  customername  city  \\\n",
       "NA values        0      0     0            0     0             0     0   \n",
       "\n",
       "           country  dealsize  \n",
       "NA values        0         0  "
      ]
     },
     "execution_count": 13,
     "metadata": {},
     "output_type": "execute_result"
    }
   ],
   "source": [
    "pd.DataFrame(df.isnull().sum().sort_values(),columns = [\"NA values\"]).transpose()"
   ]
  },
  {
   "cell_type": "code",
   "execution_count": 14,
   "id": "dee4ece6",
   "metadata": {},
   "outputs": [],
   "source": [
    "#Feature construction - recency"
   ]
  },
  {
   "cell_type": "markdown",
   "id": "d8eef138",
   "metadata": {},
   "source": [
    "What Is Recency, Frequency, Monetary Value (RFM)?<br>\n",
    "Recency, frequency, monetary value (RFM) is a model used in marketing analysis that segments a company's consumer base by their purchasing patterns or habits. In particular, it evaluates customers' recency (how long ago they made a purchase), frequency (how often they make purchases), and monetary value (how much money they spend).\n",
    "<br>\n",
    "RFM is then used to identify a company's or an organization's best customers by measuring and analyzing spending habits in order to improve low-scoring customers and maintain high-scoring ones.\n",
    "<br>"
   ]
  },
  {
   "cell_type": "code",
   "execution_count": 15,
   "id": "d5025c04",
   "metadata": {},
   "outputs": [],
   "source": [
    "df['orderdate'] = pd.to_datetime(df['orderdate'])"
   ]
  },
  {
   "cell_type": "code",
   "execution_count": 16,
   "id": "8731f819",
   "metadata": {},
   "outputs": [],
   "source": [
    "# most recent date from dataset  + 1 day (to count last as well for the recency)\n",
    "Now = df['orderdate'].max() + dt.timedelta(1)\n",
    "\n",
    "\n",
    "df_RFM = df.groupby('customername').agg({\n",
    "    \"orderdate\":lambda prevdate: (Now - prevdate.max()).days,\n",
    "    \"frequency\":\"count\",\n",
    "    \"monetory\":\"sum\"\n",
    "})\n",
    "\n",
    "df_RFM.rename(columns = {\"orderdate\":\"recency\"},inplace=True)"
   ]
  },
  {
   "cell_type": "code",
   "execution_count": 17,
   "id": "e3417e3a",
   "metadata": {},
   "outputs": [
    {
     "data": {
      "text/html": [
       "<div>\n",
       "<style scoped>\n",
       "    .dataframe tbody tr th:only-of-type {\n",
       "        vertical-align: middle;\n",
       "    }\n",
       "\n",
       "    .dataframe tbody tr th {\n",
       "        vertical-align: top;\n",
       "    }\n",
       "\n",
       "    .dataframe thead th {\n",
       "        text-align: right;\n",
       "    }\n",
       "</style>\n",
       "<table border=\"1\" class=\"dataframe\">\n",
       "  <thead>\n",
       "    <tr style=\"text-align: right;\">\n",
       "      <th></th>\n",
       "      <th>recency</th>\n",
       "      <th>frequency</th>\n",
       "      <th>monetory</th>\n",
       "    </tr>\n",
       "    <tr>\n",
       "      <th>customername</th>\n",
       "      <th></th>\n",
       "      <th></th>\n",
       "      <th></th>\n",
       "    </tr>\n",
       "  </thead>\n",
       "  <tbody>\n",
       "    <tr>\n",
       "      <th>AV Stores, Co.</th>\n",
       "      <td>196</td>\n",
       "      <td>51</td>\n",
       "      <td>157807.81</td>\n",
       "    </tr>\n",
       "    <tr>\n",
       "      <th>Alpha Cognac</th>\n",
       "      <td>65</td>\n",
       "      <td>20</td>\n",
       "      <td>70488.44</td>\n",
       "    </tr>\n",
       "    <tr>\n",
       "      <th>Amica Models &amp; Co.</th>\n",
       "      <td>265</td>\n",
       "      <td>26</td>\n",
       "      <td>94117.26</td>\n",
       "    </tr>\n",
       "    <tr>\n",
       "      <th>Anna's Decorations, Ltd</th>\n",
       "      <td>84</td>\n",
       "      <td>46</td>\n",
       "      <td>153996.13</td>\n",
       "    </tr>\n",
       "    <tr>\n",
       "      <th>Atelier graphique</th>\n",
       "      <td>188</td>\n",
       "      <td>7</td>\n",
       "      <td>24179.96</td>\n",
       "    </tr>\n",
       "  </tbody>\n",
       "</table>\n",
       "</div>"
      ],
      "text/plain": [
       "                         recency  frequency   monetory\n",
       "customername                                          \n",
       "AV Stores, Co.               196         51  157807.81\n",
       "Alpha Cognac                  65         20   70488.44\n",
       "Amica Models & Co.           265         26   94117.26\n",
       "Anna's Decorations, Ltd       84         46  153996.13\n",
       "Atelier graphique            188          7   24179.96"
      ]
     },
     "execution_count": 17,
     "metadata": {},
     "output_type": "execute_result"
    }
   ],
   "source": [
    "df_RFM.head(5)"
   ]
  },
  {
   "cell_type": "code",
   "execution_count": 18,
   "id": "829ec151",
   "metadata": {},
   "outputs": [],
   "source": [
    "RFM = df_RFM.copy(deep=True)"
   ]
  },
  {
   "cell_type": "markdown",
   "id": "1c087c47",
   "metadata": {},
   "source": [
    "In RFM model,for each customer, we will assign a score (between 1 to 4) for (R,F,M) to analyze the significance of customer towards (R,F,M).\n",
    "\n",
    "here, `quartile` has been used i.e binning values `[0-0.25,0.25-0.5, 0.5- 0.75,0.75-1] percentile`"
   ]
  },
  {
   "cell_type": "code",
   "execution_count": 19,
   "id": "49b86a0a",
   "metadata": {},
   "outputs": [],
   "source": [
    "df_RFM[\"R\"] = pd.qcut(df_RFM['recency'],q = 4,labels = range(1,5))\n",
    "\n",
    "df_RFM[\"F\"] = pd.qcut(df_RFM['frequency'],q = 4,labels = [4,3,2,1])\n",
    "\n",
    "df_RFM[\"M\"] = pd.qcut(df_RFM['monetory'],q = 4,labels = range(1,5))"
   ]
  },
  {
   "cell_type": "code",
   "execution_count": 20,
   "id": "69cbf0f4",
   "metadata": {},
   "outputs": [
    {
     "data": {
      "text/html": [
       "<div>\n",
       "<style scoped>\n",
       "    .dataframe tbody tr th:only-of-type {\n",
       "        vertical-align: middle;\n",
       "    }\n",
       "\n",
       "    .dataframe tbody tr th {\n",
       "        vertical-align: top;\n",
       "    }\n",
       "\n",
       "    .dataframe thead th {\n",
       "        text-align: right;\n",
       "    }\n",
       "</style>\n",
       "<table border=\"1\" class=\"dataframe\">\n",
       "  <thead>\n",
       "    <tr style=\"text-align: right;\">\n",
       "      <th></th>\n",
       "      <th>recency</th>\n",
       "      <th>frequency</th>\n",
       "      <th>monetory</th>\n",
       "      <th>R</th>\n",
       "      <th>F</th>\n",
       "      <th>M</th>\n",
       "      <th>RFM_score</th>\n",
       "    </tr>\n",
       "    <tr>\n",
       "      <th>customername</th>\n",
       "      <th></th>\n",
       "      <th></th>\n",
       "      <th></th>\n",
       "      <th></th>\n",
       "      <th></th>\n",
       "      <th></th>\n",
       "      <th></th>\n",
       "    </tr>\n",
       "  </thead>\n",
       "  <tbody>\n",
       "    <tr>\n",
       "      <th>AV Stores, Co.</th>\n",
       "      <td>196</td>\n",
       "      <td>51</td>\n",
       "      <td>157807.81</td>\n",
       "      <td>3</td>\n",
       "      <td>1</td>\n",
       "      <td>4</td>\n",
       "      <td>8</td>\n",
       "    </tr>\n",
       "    <tr>\n",
       "      <th>Alpha Cognac</th>\n",
       "      <td>65</td>\n",
       "      <td>20</td>\n",
       "      <td>70488.44</td>\n",
       "      <td>1</td>\n",
       "      <td>3</td>\n",
       "      <td>2</td>\n",
       "      <td>6</td>\n",
       "    </tr>\n",
       "    <tr>\n",
       "      <th>Amica Models &amp; Co.</th>\n",
       "      <td>265</td>\n",
       "      <td>26</td>\n",
       "      <td>94117.26</td>\n",
       "      <td>4</td>\n",
       "      <td>3</td>\n",
       "      <td>3</td>\n",
       "      <td>10</td>\n",
       "    </tr>\n",
       "    <tr>\n",
       "      <th>Anna's Decorations, Ltd</th>\n",
       "      <td>84</td>\n",
       "      <td>46</td>\n",
       "      <td>153996.13</td>\n",
       "      <td>2</td>\n",
       "      <td>1</td>\n",
       "      <td>4</td>\n",
       "      <td>7</td>\n",
       "    </tr>\n",
       "  </tbody>\n",
       "</table>\n",
       "</div>"
      ],
      "text/plain": [
       "                         recency  frequency   monetory  R  F  M  RFM_score\n",
       "customername                                                              \n",
       "AV Stores, Co.               196         51  157807.81  3  1  4          8\n",
       "Alpha Cognac                  65         20   70488.44  1  3  2          6\n",
       "Amica Models & Co.           265         26   94117.26  4  3  3         10\n",
       "Anna's Decorations, Ltd       84         46  153996.13  2  1  4          7"
      ]
     },
     "execution_count": 20,
     "metadata": {},
     "output_type": "execute_result"
    }
   ],
   "source": [
    "df_RFM['RFM_score'] = df_RFM[[\"R\",\"F\",\"M\"]].sum(axis = 1)\n",
    "df_RFM.head(4)"
   ]
  },
  {
   "cell_type": "code",
   "execution_count": 21,
   "id": "893d980d",
   "metadata": {},
   "outputs": [],
   "source": [
    "def sig_level(customer):\n",
    "    if customer[\"RFM_score\"] >= 10: return \"High\"\n",
    "    elif ((customer[\"RFM_score\"] < 10) and (customer[\"RFM_score\"] >= 6)): return \"Medium\"\n",
    "    else: return \"Low\"\n",
    "        \n",
    "\n",
    "df_RFM[\"significance_level\"] = df_RFM.apply(sig_level,axis = 1)"
   ]
  },
  {
   "cell_type": "code",
   "execution_count": 22,
   "id": "06883e35",
   "metadata": {},
   "outputs": [
    {
     "data": {
      "text/html": [
       "<div>\n",
       "<style scoped>\n",
       "    .dataframe tbody tr th:only-of-type {\n",
       "        vertical-align: middle;\n",
       "    }\n",
       "\n",
       "    .dataframe tbody tr th {\n",
       "        vertical-align: top;\n",
       "    }\n",
       "\n",
       "    .dataframe thead th {\n",
       "        text-align: right;\n",
       "    }\n",
       "</style>\n",
       "<table border=\"1\" class=\"dataframe\">\n",
       "  <thead>\n",
       "    <tr style=\"text-align: right;\">\n",
       "      <th></th>\n",
       "      <th>recency</th>\n",
       "      <th>frequency</th>\n",
       "      <th>monetory</th>\n",
       "      <th>R</th>\n",
       "      <th>F</th>\n",
       "      <th>M</th>\n",
       "      <th>RFM_score</th>\n",
       "      <th>significance_level</th>\n",
       "    </tr>\n",
       "    <tr>\n",
       "      <th>customername</th>\n",
       "      <th></th>\n",
       "      <th></th>\n",
       "      <th></th>\n",
       "      <th></th>\n",
       "      <th></th>\n",
       "      <th></th>\n",
       "      <th></th>\n",
       "      <th></th>\n",
       "    </tr>\n",
       "  </thead>\n",
       "  <tbody>\n",
       "    <tr>\n",
       "      <th>AV Stores, Co.</th>\n",
       "      <td>196</td>\n",
       "      <td>51</td>\n",
       "      <td>157807.81</td>\n",
       "      <td>3</td>\n",
       "      <td>1</td>\n",
       "      <td>4</td>\n",
       "      <td>8</td>\n",
       "      <td>Medium</td>\n",
       "    </tr>\n",
       "    <tr>\n",
       "      <th>Alpha Cognac</th>\n",
       "      <td>65</td>\n",
       "      <td>20</td>\n",
       "      <td>70488.44</td>\n",
       "      <td>1</td>\n",
       "      <td>3</td>\n",
       "      <td>2</td>\n",
       "      <td>6</td>\n",
       "      <td>Medium</td>\n",
       "    </tr>\n",
       "    <tr>\n",
       "      <th>Amica Models &amp; Co.</th>\n",
       "      <td>265</td>\n",
       "      <td>26</td>\n",
       "      <td>94117.26</td>\n",
       "      <td>4</td>\n",
       "      <td>3</td>\n",
       "      <td>3</td>\n",
       "      <td>10</td>\n",
       "      <td>High</td>\n",
       "    </tr>\n",
       "    <tr>\n",
       "      <th>Anna's Decorations, Ltd</th>\n",
       "      <td>84</td>\n",
       "      <td>46</td>\n",
       "      <td>153996.13</td>\n",
       "      <td>2</td>\n",
       "      <td>1</td>\n",
       "      <td>4</td>\n",
       "      <td>7</td>\n",
       "      <td>Medium</td>\n",
       "    </tr>\n",
       "    <tr>\n",
       "      <th>Atelier graphique</th>\n",
       "      <td>188</td>\n",
       "      <td>7</td>\n",
       "      <td>24179.96</td>\n",
       "      <td>3</td>\n",
       "      <td>4</td>\n",
       "      <td>1</td>\n",
       "      <td>8</td>\n",
       "      <td>Medium</td>\n",
       "    </tr>\n",
       "    <tr>\n",
       "      <th>...</th>\n",
       "      <td>...</td>\n",
       "      <td>...</td>\n",
       "      <td>...</td>\n",
       "      <td>...</td>\n",
       "      <td>...</td>\n",
       "      <td>...</td>\n",
       "      <td>...</td>\n",
       "      <td>...</td>\n",
       "    </tr>\n",
       "    <tr>\n",
       "      <th>Vida Sport, Ltd</th>\n",
       "      <td>275</td>\n",
       "      <td>31</td>\n",
       "      <td>117713.56</td>\n",
       "      <td>4</td>\n",
       "      <td>2</td>\n",
       "      <td>3</td>\n",
       "      <td>9</td>\n",
       "      <td>Medium</td>\n",
       "    </tr>\n",
       "    <tr>\n",
       "      <th>Vitachrome Inc.</th>\n",
       "      <td>208</td>\n",
       "      <td>25</td>\n",
       "      <td>88041.26</td>\n",
       "      <td>3</td>\n",
       "      <td>3</td>\n",
       "      <td>3</td>\n",
       "      <td>9</td>\n",
       "      <td>Medium</td>\n",
       "    </tr>\n",
       "    <tr>\n",
       "      <th>Volvo Model Replicas, Co</th>\n",
       "      <td>194</td>\n",
       "      <td>19</td>\n",
       "      <td>75754.88</td>\n",
       "      <td>3</td>\n",
       "      <td>4</td>\n",
       "      <td>2</td>\n",
       "      <td>9</td>\n",
       "      <td>Medium</td>\n",
       "    </tr>\n",
       "    <tr>\n",
       "      <th>West Coast Collectables Co.</th>\n",
       "      <td>489</td>\n",
       "      <td>13</td>\n",
       "      <td>46084.64</td>\n",
       "      <td>4</td>\n",
       "      <td>4</td>\n",
       "      <td>1</td>\n",
       "      <td>9</td>\n",
       "      <td>Medium</td>\n",
       "    </tr>\n",
       "    <tr>\n",
       "      <th>giftsbymail.co.uk</th>\n",
       "      <td>212</td>\n",
       "      <td>26</td>\n",
       "      <td>78240.84</td>\n",
       "      <td>3</td>\n",
       "      <td>3</td>\n",
       "      <td>2</td>\n",
       "      <td>8</td>\n",
       "      <td>Medium</td>\n",
       "    </tr>\n",
       "  </tbody>\n",
       "</table>\n",
       "<p>92 rows × 8 columns</p>\n",
       "</div>"
      ],
      "text/plain": [
       "                             recency  frequency   monetory  R  F  M  \\\n",
       "customername                                                          \n",
       "AV Stores, Co.                   196         51  157807.81  3  1  4   \n",
       "Alpha Cognac                      65         20   70488.44  1  3  2   \n",
       "Amica Models & Co.               265         26   94117.26  4  3  3   \n",
       "Anna's Decorations, Ltd           84         46  153996.13  2  1  4   \n",
       "Atelier graphique                188          7   24179.96  3  4  1   \n",
       "...                              ...        ...        ... .. .. ..   \n",
       "Vida Sport, Ltd                  275         31  117713.56  4  2  3   \n",
       "Vitachrome Inc.                  208         25   88041.26  3  3  3   \n",
       "Volvo Model Replicas, Co         194         19   75754.88  3  4  2   \n",
       "West Coast Collectables Co.      489         13   46084.64  4  4  1   \n",
       "giftsbymail.co.uk                212         26   78240.84  3  3  2   \n",
       "\n",
       "                             RFM_score significance_level  \n",
       "customername                                               \n",
       "AV Stores, Co.                       8             Medium  \n",
       "Alpha Cognac                         6             Medium  \n",
       "Amica Models & Co.                  10               High  \n",
       "Anna's Decorations, Ltd              7             Medium  \n",
       "Atelier graphique                    8             Medium  \n",
       "...                                ...                ...  \n",
       "Vida Sport, Ltd                      9             Medium  \n",
       "Vitachrome Inc.                      9             Medium  \n",
       "Volvo Model Replicas, Co             9             Medium  \n",
       "West Coast Collectables Co.          9             Medium  \n",
       "giftsbymail.co.uk                    8             Medium  \n",
       "\n",
       "[92 rows x 8 columns]"
      ]
     },
     "execution_count": 22,
     "metadata": {},
     "output_type": "execute_result"
    }
   ],
   "source": [
    "df_RFM"
   ]
  },
  {
   "cell_type": "code",
   "execution_count": 23,
   "id": "b2c0c885",
   "metadata": {},
   "outputs": [],
   "source": [
    "proportion = df_RFM.significance_level.value_counts(normalize = True)"
   ]
  },
  {
   "cell_type": "code",
   "execution_count": 24,
   "id": "502feeb2",
   "metadata": {},
   "outputs": [
    {
     "data": {
      "image/png": "[encoded data removed]",
      "text/plain": [
       "<Figure size 432x288 with 1 Axes>"
      ]
     },
     "metadata": {
      "needs_background": "light"
     },
     "output_type": "display_data"
    }
   ],
   "source": [
    "plt.figure()\n",
    "proportion.plot(kind = 'bar')\n",
    "plt.ylabel(\"Proportion (%)\")\n",
    "plt.xlabel(\"Significance Level\")\n",
    "plt.show()"
   ]
  },
  {
   "cell_type": "markdown",
   "id": "e77068bb",
   "metadata": {},
   "source": [
    "## K-Means clustering "
   ]
  },
  {
   "cell_type": "code",
   "execution_count": 25,
   "id": "298a7b82",
   "metadata": {},
   "outputs": [
    {
     "name": "stdout",
     "output_type": "stream",
     "text": [
      "(92, 3)\n"
     ]
    },
    {
     "data": {
      "text/html": [
       "<div>\n",
       "<style scoped>\n",
       "    .dataframe tbody tr th:only-of-type {\n",
       "        vertical-align: middle;\n",
       "    }\n",
       "\n",
       "    .dataframe tbody tr th {\n",
       "        vertical-align: top;\n",
       "    }\n",
       "\n",
       "    .dataframe thead th {\n",
       "        text-align: right;\n",
       "    }\n",
       "</style>\n",
       "<table border=\"1\" class=\"dataframe\">\n",
       "  <thead>\n",
       "    <tr style=\"text-align: right;\">\n",
       "      <th></th>\n",
       "      <th>recency</th>\n",
       "      <th>frequency</th>\n",
       "      <th>monetory</th>\n",
       "    </tr>\n",
       "    <tr>\n",
       "      <th>customername</th>\n",
       "      <th></th>\n",
       "      <th></th>\n",
       "      <th></th>\n",
       "    </tr>\n",
       "  </thead>\n",
       "  <tbody>\n",
       "    <tr>\n",
       "      <th>AV Stores, Co.</th>\n",
       "      <td>0.100242</td>\n",
       "      <td>0.656717</td>\n",
       "      <td>0.442010</td>\n",
       "    </tr>\n",
       "    <tr>\n",
       "      <th>Alpha Cognac</th>\n",
       "      <td>-0.896558</td>\n",
       "      <td>-0.345400</td>\n",
       "      <td>-0.349582</td>\n",
       "    </tr>\n",
       "    <tr>\n",
       "      <th>Amica Models &amp; Co.</th>\n",
       "      <td>0.625275</td>\n",
       "      <td>-0.151442</td>\n",
       "      <td>-0.135375</td>\n",
       "    </tr>\n",
       "  </tbody>\n",
       "</table>\n",
       "</div>"
      ],
      "text/plain": [
       "                     recency  frequency  monetory\n",
       "customername                                     \n",
       "AV Stores, Co.      0.100242   0.656717  0.442010\n",
       "Alpha Cognac       -0.896558  -0.345400 -0.349582\n",
       "Amica Models & Co.  0.625275  -0.151442 -0.135375"
      ]
     },
     "execution_count": 25,
     "metadata": {},
     "output_type": "execute_result"
    }
   ],
   "source": [
    "#normalize\n",
    "RFM_norm = (RFM - RFM.mean())/RFM.std()\n",
    "print(RFM_norm.shape)\n",
    "RFM_norm.head(3)"
   ]
  },
  {
   "cell_type": "markdown",
   "id": "d60d39b5",
   "metadata": {},
   "source": [
    "### Using elbow method to determine number of clusters"
   ]
  },
  {
   "cell_type": "code",
   "execution_count": 26,
   "id": "df31a542",
   "metadata": {},
   "outputs": [],
   "source": [
    "from sklearn.cluster import KMeans"
   ]
  },
  {
   "cell_type": "code",
   "execution_count": 27,
   "id": "532b47ac",
   "metadata": {},
   "outputs": [],
   "source": [
    "#elbow method\n",
    "values = []    \n",
    "n = 11\n",
    "\n",
    "for k in range(1,n):\n",
    "    model = KMeans(n_clusters = k,random_state= 42)\n",
    "    model.fit(RFM_norm)\n",
    "    values.append(model.inertia_)\n",
    "\n",
    "n_clusters = list(range(1,n))"
   ]
  },
  {
   "cell_type": "code",
   "execution_count": 28,
   "id": "88f83227",
   "metadata": {},
   "outputs": [],
   "source": [
    "assert len(values) == len(n_clusters), \"Not Equal\""
   ]
  },
  {
   "cell_type": "code",
   "execution_count": 29,
   "id": "99da92de",
   "metadata": {},
   "outputs": [
    {
     "data": {
      "image/png": "[encoded data removed]",
      "text/plain": [
       "<Figure size 1000x400 with 1 Axes>"
      ]
     },
     "metadata": {
      "needs_background": "light"
     },
     "output_type": "display_data"
    }
   ],
   "source": [
    "plt.figure(figsize = [10,4],dpi = 100)\n",
    "plt.title(\"Elbow Method\")\n",
    "plt.xlabel(\"Number of clusters (k)\")\n",
    "plt.ylabel(\"In-cluster Sum\")\n",
    "sns.pointplot(x = n_clusters,y = values)\n",
    "plt.show()"
   ]
  },
  {
   "cell_type": "markdown",
   "id": "b3f1de8f",
   "metadata": {},
   "source": [
    "#### optimal choice of k = 3"
   ]
  },
  {
   "cell_type": "code",
   "execution_count": 30,
   "id": "4a2e052b",
   "metadata": {},
   "outputs": [
    {
     "data": {
      "text/html": [
       "<div>\n",
       "<style scoped>\n",
       "    .dataframe tbody tr th:only-of-type {\n",
       "        vertical-align: middle;\n",
       "    }\n",
       "\n",
       "    .dataframe tbody tr th {\n",
       "        vertical-align: top;\n",
       "    }\n",
       "\n",
       "    .dataframe thead th {\n",
       "        text-align: right;\n",
       "    }\n",
       "</style>\n",
       "<table border=\"1\" class=\"dataframe\">\n",
       "  <thead>\n",
       "    <tr style=\"text-align: right;\">\n",
       "      <th></th>\n",
       "      <th>comp1</th>\n",
       "      <th>comp2</th>\n",
       "    </tr>\n",
       "  </thead>\n",
       "  <tbody>\n",
       "    <tr>\n",
       "      <th>0</th>\n",
       "      <td>0.687927</td>\n",
       "      <td>0.375104</td>\n",
       "    </tr>\n",
       "    <tr>\n",
       "      <th>1</th>\n",
       "      <td>-0.133731</td>\n",
       "      <td>-1.013606</td>\n",
       "    </tr>\n",
       "    <tr>\n",
       "      <th>2</th>\n",
       "      <td>-0.415305</td>\n",
       "      <td>0.509482</td>\n",
       "    </tr>\n",
       "  </tbody>\n",
       "</table>\n",
       "</div>"
      ],
      "text/plain": [
       "      comp1     comp2\n",
       "0  0.687927  0.375104\n",
       "1 -0.133731 -1.013606\n",
       "2 -0.415305  0.509482"
      ]
     },
     "execution_count": 30,
     "metadata": {},
     "output_type": "execute_result"
    }
   ],
   "source": [
    "from sklearn.decomposition import PCA\n",
    "pca = PCA(2)\n",
    "RFM_pca = pca.fit_transform(RFM_norm)\n",
    "RFM_pca = pd.DataFrame(RFM_pca,columns = ['comp1',\"comp2\"])\n",
    "RFM_pca.head(3)"
   ]
  },
  {
   "cell_type": "code",
   "execution_count": 31,
   "id": "eaa1d0bf",
   "metadata": {},
   "outputs": [
    {
     "data": {
      "text/html": [
       "<div>\n",
       "<style scoped>\n",
       "    .dataframe tbody tr th:only-of-type {\n",
       "        vertical-align: middle;\n",
       "    }\n",
       "\n",
       "    .dataframe tbody tr th {\n",
       "        vertical-align: top;\n",
       "    }\n",
       "\n",
       "    .dataframe thead th {\n",
       "        text-align: right;\n",
       "    }\n",
       "</style>\n",
       "<table border=\"1\" class=\"dataframe\">\n",
       "  <thead>\n",
       "    <tr style=\"text-align: right;\">\n",
       "      <th></th>\n",
       "      <th>comp1</th>\n",
       "      <th>comp2</th>\n",
       "      <th>clusters</th>\n",
       "    </tr>\n",
       "  </thead>\n",
       "  <tbody>\n",
       "    <tr>\n",
       "      <th>0</th>\n",
       "      <td>0.687927</td>\n",
       "      <td>0.375104</td>\n",
       "      <td>1</td>\n",
       "    </tr>\n",
       "    <tr>\n",
       "      <th>1</th>\n",
       "      <td>-0.133731</td>\n",
       "      <td>-1.013606</td>\n",
       "      <td>1</td>\n",
       "    </tr>\n",
       "    <tr>\n",
       "      <th>2</th>\n",
       "      <td>-0.415305</td>\n",
       "      <td>0.509482</td>\n",
       "      <td>1</td>\n",
       "    </tr>\n",
       "  </tbody>\n",
       "</table>\n",
       "</div>"
      ],
      "text/plain": [
       "      comp1     comp2  clusters\n",
       "0  0.687927  0.375104         1\n",
       "1 -0.133731 -1.013606         1\n",
       "2 -0.415305  0.509482         1"
      ]
     },
     "execution_count": 31,
     "metadata": {},
     "output_type": "execute_result"
    }
   ],
   "source": [
    "#fitting final model\n",
    "model = KMeans(n_clusters = 3)\n",
    "model.fit(RFM_pca)\n",
    "RFM_pca['clusters'] = model.labels_\n",
    "RFM_pca.head(3)"
   ]
  },
  {
   "cell_type": "code",
   "execution_count": 32,
   "id": "bee3648a",
   "metadata": {},
   "outputs": [],
   "source": [
    "centroids = model.cluster_centers_"
   ]
  },
  {
   "cell_type": "code",
   "execution_count": 36,
   "id": "139d51c1",
   "metadata": {},
   "outputs": [
    {
     "data": {
      "image/png": "[encoded data removed]",
      "text/plain": [
       "<Figure size 432x288 with 1 Axes>"
      ]
     },
     "metadata": {
      "needs_background": "light"
     },
     "output_type": "display_data"
    }
   ],
   "source": [
    "clusters = np.unique(model.labels_)\n",
    "for k in clusters:\n",
    "    x = RFM_pca[RFM_pca.clusters == k]['comp1']\n",
    "    y = RFM_pca[RFM_pca.clusters == k]['comp2']\n",
    "    \n",
    "    plt.scatter(x,y,label = k)\n",
    "    \n",
    "plt.scatter(centroids[:,0],centroids[:,1],s=50,color = 'k')\n",
    "plt.legend()\n",
    "plt.show()"
   ]
  }
 ],
 "metadata": {
  "kernelspec": {
   "display_name": "Python 3 (ipykernel)",
   "language": "python",
   "name": "python3"
  },
  "language_info": {
   "codemirror_mode": {
    "name": "ipython",
    "version": 3
   },
   "file_extension": ".py",
   "mimetype": "text/x-python",
   "name": "python",
   "nbconvert_exporter": "python",
   "pygments_lexer": "ipython3",
   "version": "3.8.5"
  }
 },
 "nbformat": 4,
 "nbformat_minor": 5
}
