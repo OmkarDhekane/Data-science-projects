{
 "cells": [
  {
   "cell_type": "markdown",
   "id": "24df0408",
   "metadata": {},
   "source": [
    "Given a bank customer, build a neural network-based classifier that can determine whether they will leave or not in the next 6 months.<br>\n",
    "Dataset Description: The case study is from an open-source dataset from Kaggle. The dataset contains 10,000 sample points with 14 distinct features such as CustomerId, CreditScore, Geography, Gender, Age, Tenure, Balance, etc.<br> Link to the Kaggle project: https://www.kaggle.com/barelydedicated/bank-customer-churn-modeling Perform following steps: <br>1. Read the dataset. <br>2. Distinguish the feature and target set and divide the data set into training and test sets. <br>3. Normalize the train and test data. <br>4. Initialize and build the model. Identify the points of improvement and implement the same. <br>5. Print the accuracy score and confusion matrix<br><br>"
   ]
  },
  {
   "cell_type": "code",
   "execution_count": 1,
   "id": "efde0ce0",
   "metadata": {},
   "outputs": [],
   "source": [
    "import pandas  as pd\n",
    "import numpy as np\n",
    "import matplotlib.pyplot as plt\n",
    "import seaborn as sns\n",
    "import warnings\n",
    "warnings.filterwarnings(\"ignore\")"
   ]
  },
  {
   "cell_type": "code",
   "execution_count": 115,
   "id": "89631f35",
   "metadata": {},
   "outputs": [
    {
     "name": "stdout",
     "output_type": "stream",
     "text": [
      "Loaded!\n"
     ]
    }
   ],
   "source": [
    "df = pd.read_csv('data/Churn_Modelling.csv')\n",
    "\n",
    "if ~df.empty:\n",
    "    print('Loaded!')"
   ]
  },
  {
   "cell_type": "code",
   "execution_count": 116,
   "id": "fbf335c9",
   "metadata": {},
   "outputs": [
    {
     "name": "stdout",
     "output_type": "stream",
     "text": [
      "(10000, 14)\n",
      "Index(['RowNumber', 'CustomerId', 'Surname', 'CreditScore', 'Geography',\n",
      "       'Gender', 'Age', 'Tenure', 'Balance', 'NumOfProducts', 'HasCrCard',\n",
      "       'IsActiveMember', 'EstimatedSalary', 'Exited'],\n",
      "      dtype='object')\n"
     ]
    }
   ],
   "source": [
    "print(df.shape)\n",
    "print(df.columns)\n",
    "# print(df.info())"
   ]
  },
  {
   "cell_type": "code",
   "execution_count": 117,
   "id": "745438a8",
   "metadata": {},
   "outputs": [
    {
     "data": {
      "text/html": [
       "<div>\n",
       "<style scoped>\n",
       "    .dataframe tbody tr th:only-of-type {\n",
       "        vertical-align: middle;\n",
       "    }\n",
       "\n",
       "    .dataframe tbody tr th {\n",
       "        vertical-align: top;\n",
       "    }\n",
       "\n",
       "    .dataframe thead th {\n",
       "        text-align: right;\n",
       "    }\n",
       "</style>\n",
       "<table border=\"1\" class=\"dataframe\">\n",
       "  <thead>\n",
       "    <tr style=\"text-align: right;\">\n",
       "      <th></th>\n",
       "      <th>RowNumber</th>\n",
       "      <th>CustomerId</th>\n",
       "      <th>Surname</th>\n",
       "      <th>CreditScore</th>\n",
       "      <th>Geography</th>\n",
       "      <th>Gender</th>\n",
       "      <th>Age</th>\n",
       "      <th>Tenure</th>\n",
       "      <th>Balance</th>\n",
       "      <th>NumOfProducts</th>\n",
       "      <th>HasCrCard</th>\n",
       "      <th>IsActiveMember</th>\n",
       "      <th>EstimatedSalary</th>\n",
       "      <th>Exited</th>\n",
       "    </tr>\n",
       "  </thead>\n",
       "  <tbody>\n",
       "    <tr>\n",
       "      <th>0</th>\n",
       "      <td>1</td>\n",
       "      <td>15634602</td>\n",
       "      <td>Hargrave</td>\n",
       "      <td>619</td>\n",
       "      <td>France</td>\n",
       "      <td>Female</td>\n",
       "      <td>42</td>\n",
       "      <td>2</td>\n",
       "      <td>0.00</td>\n",
       "      <td>1</td>\n",
       "      <td>1</td>\n",
       "      <td>1</td>\n",
       "      <td>101348.88</td>\n",
       "      <td>1</td>\n",
       "    </tr>\n",
       "    <tr>\n",
       "      <th>1</th>\n",
       "      <td>2</td>\n",
       "      <td>15647311</td>\n",
       "      <td>Hill</td>\n",
       "      <td>608</td>\n",
       "      <td>Spain</td>\n",
       "      <td>Female</td>\n",
       "      <td>41</td>\n",
       "      <td>1</td>\n",
       "      <td>83807.86</td>\n",
       "      <td>1</td>\n",
       "      <td>0</td>\n",
       "      <td>1</td>\n",
       "      <td>112542.58</td>\n",
       "      <td>0</td>\n",
       "    </tr>\n",
       "    <tr>\n",
       "      <th>2</th>\n",
       "      <td>3</td>\n",
       "      <td>15619304</td>\n",
       "      <td>Onio</td>\n",
       "      <td>502</td>\n",
       "      <td>France</td>\n",
       "      <td>Female</td>\n",
       "      <td>42</td>\n",
       "      <td>8</td>\n",
       "      <td>159660.80</td>\n",
       "      <td>3</td>\n",
       "      <td>1</td>\n",
       "      <td>0</td>\n",
       "      <td>113931.57</td>\n",
       "      <td>1</td>\n",
       "    </tr>\n",
       "  </tbody>\n",
       "</table>\n",
       "</div>"
      ],
      "text/plain": [
       "   RowNumber  CustomerId   Surname  CreditScore Geography  Gender  Age  \\\n",
       "0          1    15634602  Hargrave          619    France  Female   42   \n",
       "1          2    15647311      Hill          608     Spain  Female   41   \n",
       "2          3    15619304      Onio          502    France  Female   42   \n",
       "\n",
       "   Tenure    Balance  NumOfProducts  HasCrCard  IsActiveMember  \\\n",
       "0       2       0.00              1          1               1   \n",
       "1       1   83807.86              1          0               1   \n",
       "2       8  159660.80              3          1               0   \n",
       "\n",
       "   EstimatedSalary  Exited  \n",
       "0        101348.88       1  \n",
       "1        112542.58       0  \n",
       "2        113931.57       1  "
      ]
     },
     "execution_count": 117,
     "metadata": {},
     "output_type": "execute_result"
    }
   ],
   "source": [
    "df.head(3)"
   ]
  },
  {
   "cell_type": "code",
   "execution_count": 118,
   "id": "fd71bdce",
   "metadata": {},
   "outputs": [],
   "source": [
    "original_df = df.copy(deep=True)"
   ]
  },
  {
   "cell_type": "code",
   "execution_count": 119,
   "id": "171efba4",
   "metadata": {},
   "outputs": [],
   "source": [
    "df = original_df"
   ]
  },
  {
   "cell_type": "markdown",
   "id": "fd00f899",
   "metadata": {},
   "source": [
    "## Preprocessing Dataset\n",
    "\n",
    "- Removing redundant features\n",
    "- Handling NA values\n",
    "- Removing Duplicates\n",
    "- Feature construction\n",
    "- One hot encoding\n",
    "- Handling outliers"
   ]
  },
  {
   "cell_type": "code",
   "execution_count": 120,
   "id": "fc28340f",
   "metadata": {},
   "outputs": [],
   "source": [
    "# cleaning\n",
    "df.drop(columns = ['RowNumber',\"CustomerId\",\"Surname\"],inplace=True)"
   ]
  },
  {
   "cell_type": "code",
   "execution_count": 121,
   "id": "365d10fd",
   "metadata": {},
   "outputs": [
    {
     "data": {
      "text/plain": [
       "0"
      ]
     },
     "execution_count": 121,
     "metadata": {},
     "output_type": "execute_result"
    }
   ],
   "source": [
    "df.isnull().sum().sum()"
   ]
  },
  {
   "cell_type": "code",
   "execution_count": 122,
   "id": "bf4a9cec",
   "metadata": {},
   "outputs": [
    {
     "data": {
      "text/plain": [
       "Gender                2\n",
       "HasCrCard             2\n",
       "IsActiveMember        2\n",
       "Exited                2\n",
       "Geography             3\n",
       "NumOfProducts         4\n",
       "Tenure               11\n",
       "Age                  70\n",
       "CreditScore         460\n",
       "Balance            6382\n",
       "EstimatedSalary    9999\n",
       "dtype: int64"
      ]
     },
     "execution_count": 122,
     "metadata": {},
     "output_type": "execute_result"
    }
   ],
   "source": [
    "df.nunique().sort_values()"
   ]
  },
  {
   "cell_type": "code",
   "execution_count": 123,
   "id": "313df549",
   "metadata": {},
   "outputs": [
    {
     "name": "stdout",
     "output_type": "stream",
     "text": [
      "['France' 'Spain' 'Germany']\n",
      "[1 3 2 4]\n"
     ]
    }
   ],
   "source": [
    "print(df.Geography.unique())\n",
    "print(df.NumOfProducts.unique())"
   ]
  },
  {
   "cell_type": "code",
   "execution_count": 124,
   "id": "4f2ec5d3",
   "metadata": {},
   "outputs": [
    {
     "data": {
      "text/html": [
       "<div>\n",
       "<style scoped>\n",
       "    .dataframe tbody tr th:only-of-type {\n",
       "        vertical-align: middle;\n",
       "    }\n",
       "\n",
       "    .dataframe tbody tr th {\n",
       "        vertical-align: top;\n",
       "    }\n",
       "\n",
       "    .dataframe thead th {\n",
       "        text-align: right;\n",
       "    }\n",
       "</style>\n",
       "<table border=\"1\" class=\"dataframe\">\n",
       "  <thead>\n",
       "    <tr style=\"text-align: right;\">\n",
       "      <th></th>\n",
       "      <th>CreditScore</th>\n",
       "      <th>Geography</th>\n",
       "      <th>Gender</th>\n",
       "      <th>Age</th>\n",
       "      <th>Tenure</th>\n",
       "      <th>Balance</th>\n",
       "      <th>NumOfProducts</th>\n",
       "      <th>HasCrCard</th>\n",
       "      <th>IsActiveMember</th>\n",
       "      <th>EstimatedSalary</th>\n",
       "      <th>Exited</th>\n",
       "    </tr>\n",
       "  </thead>\n",
       "  <tbody>\n",
       "    <tr>\n",
       "      <th>0</th>\n",
       "      <td>619</td>\n",
       "      <td>France</td>\n",
       "      <td>Female</td>\n",
       "      <td>42</td>\n",
       "      <td>2</td>\n",
       "      <td>0.00</td>\n",
       "      <td>1</td>\n",
       "      <td>1</td>\n",
       "      <td>1</td>\n",
       "      <td>101348.88</td>\n",
       "      <td>1</td>\n",
       "    </tr>\n",
       "    <tr>\n",
       "      <th>1</th>\n",
       "      <td>608</td>\n",
       "      <td>Spain</td>\n",
       "      <td>Female</td>\n",
       "      <td>41</td>\n",
       "      <td>1</td>\n",
       "      <td>83807.86</td>\n",
       "      <td>1</td>\n",
       "      <td>0</td>\n",
       "      <td>1</td>\n",
       "      <td>112542.58</td>\n",
       "      <td>0</td>\n",
       "    </tr>\n",
       "    <tr>\n",
       "      <th>2</th>\n",
       "      <td>502</td>\n",
       "      <td>France</td>\n",
       "      <td>Female</td>\n",
       "      <td>42</td>\n",
       "      <td>8</td>\n",
       "      <td>159660.80</td>\n",
       "      <td>3</td>\n",
       "      <td>1</td>\n",
       "      <td>0</td>\n",
       "      <td>113931.57</td>\n",
       "      <td>1</td>\n",
       "    </tr>\n",
       "  </tbody>\n",
       "</table>\n",
       "</div>"
      ],
      "text/plain": [
       "   CreditScore Geography  Gender  Age  Tenure    Balance  NumOfProducts  \\\n",
       "0          619    France  Female   42       2       0.00              1   \n",
       "1          608     Spain  Female   41       1   83807.86              1   \n",
       "2          502    France  Female   42       8  159660.80              3   \n",
       "\n",
       "   HasCrCard  IsActiveMember  EstimatedSalary  Exited  \n",
       "0          1               1        101348.88       1  \n",
       "1          0               1        112542.58       0  \n",
       "2          1               0        113931.57       1  "
      ]
     },
     "execution_count": 124,
     "metadata": {},
     "output_type": "execute_result"
    }
   ],
   "source": [
    "df.head(3)"
   ]
  },
  {
   "cell_type": "code",
   "execution_count": 125,
   "id": "a463b43d",
   "metadata": {},
   "outputs": [
    {
     "name": "stdout",
     "output_type": "stream",
     "text": [
      "0 duplicates found and deleted!\n"
     ]
    }
   ],
   "source": [
    "old = df.shape[0]\n",
    "df.drop_duplicates(inplace=True)\n",
    "new = df.shape[0]\n",
    "print(f\"{old-new} duplicates found and deleted!\")"
   ]
  },
  {
   "cell_type": "code",
   "execution_count": 126,
   "id": "a6c61e9e",
   "metadata": {},
   "outputs": [],
   "source": [
    "# one hot encode\n",
    "from sklearn.preprocessing import LabelEncoder"
   ]
  },
  {
   "cell_type": "code",
   "execution_count": 127,
   "id": "c7307b74",
   "metadata": {},
   "outputs": [],
   "source": [
    "le = LabelEncoder()\n",
    "\n",
    "cat_vars = df.select_dtypes(exclude='number').columns\n",
    "\n",
    "for cf in cat_vars:\n",
    "    df[cf] = le.fit_transform(df[cf])\n",
    "    df[cf] = df[cf].astype(\"int64\")"
   ]
  },
  {
   "cell_type": "code",
   "execution_count": 128,
   "id": "aabe1c13",
   "metadata": {},
   "outputs": [
    {
     "data": {
      "text/plain": [
       "CreditScore          int64\n",
       "Geography            int64\n",
       "Gender               int64\n",
       "Age                  int64\n",
       "Tenure               int64\n",
       "Balance            float64\n",
       "NumOfProducts        int64\n",
       "HasCrCard            int64\n",
       "IsActiveMember       int64\n",
       "EstimatedSalary    float64\n",
       "Exited               int64\n",
       "dtype: object"
      ]
     },
     "execution_count": 128,
     "metadata": {},
     "output_type": "execute_result"
    }
   ],
   "source": [
    "df.dtypes"
   ]
  },
  {
   "cell_type": "code",
   "execution_count": 80,
   "id": "110f4af3",
   "metadata": {},
   "outputs": [
    {
     "data": {
      "image/png": "[encoded data removed]",
      "text/plain": [
       "<Figure size 900x720 with 11 Axes>"
      ]
     },
     "metadata": {
      "needs_background": "light"
     },
     "output_type": "display_data"
    }
   ],
   "source": [
    "cnt = 1\n",
    "\n",
    "plt.figure(figsize = [10,8],dpi = 90)\n",
    "for i in df.columns:\n",
    "    plt.subplot(4,3,cnt)\n",
    "    cnt+=1\n",
    "    sns.boxplot(df[i])\n",
    "    plt.tight_layout(pad = 1)\n",
    "\n",
    "plt.show()"
   ]
  },
  {
   "cell_type": "code",
   "execution_count": 114,
   "id": "771d3c9b",
   "metadata": {},
   "outputs": [
    {
     "data": {
      "image/png": "[encoded data removed]",
      "text/plain": [
       "<Figure size 432x288 with 1 Axes>"
      ]
     },
     "metadata": {},
     "output_type": "display_data"
    }
   ],
   "source": [
    "exit_stat = df.Exited.value_counts()\n",
    "plt.figure()\n",
    "plt.pie(exit_stat.values,labels = [\"Not Exited\",\"Exited\"],autopct='%.0f%%')\n",
    "plt.show()"
   ]
  },
  {
   "cell_type": "code",
   "execution_count": 129,
   "id": "d67decb2",
   "metadata": {},
   "outputs": [
    {
     "data": {
      "text/html": [
       "<div>\n",
       "<style scoped>\n",
       "    .dataframe tbody tr th:only-of-type {\n",
       "        vertical-align: middle;\n",
       "    }\n",
       "\n",
       "    .dataframe tbody tr th {\n",
       "        vertical-align: top;\n",
       "    }\n",
       "\n",
       "    .dataframe thead th {\n",
       "        text-align: right;\n",
       "    }\n",
       "</style>\n",
       "<table border=\"1\" class=\"dataframe\">\n",
       "  <thead>\n",
       "    <tr style=\"text-align: right;\">\n",
       "      <th></th>\n",
       "      <th>CreditScore</th>\n",
       "      <th>Geography</th>\n",
       "      <th>Gender</th>\n",
       "      <th>Age</th>\n",
       "      <th>Tenure</th>\n",
       "      <th>Balance</th>\n",
       "      <th>NumOfProducts</th>\n",
       "      <th>HasCrCard</th>\n",
       "      <th>IsActiveMember</th>\n",
       "      <th>EstimatedSalary</th>\n",
       "      <th>Exited</th>\n",
       "    </tr>\n",
       "  </thead>\n",
       "  <tbody>\n",
       "    <tr>\n",
       "      <th>0</th>\n",
       "      <td>619</td>\n",
       "      <td>0</td>\n",
       "      <td>0</td>\n",
       "      <td>42</td>\n",
       "      <td>2</td>\n",
       "      <td>0.00</td>\n",
       "      <td>1</td>\n",
       "      <td>1</td>\n",
       "      <td>1</td>\n",
       "      <td>101348.88</td>\n",
       "      <td>1</td>\n",
       "    </tr>\n",
       "    <tr>\n",
       "      <th>1</th>\n",
       "      <td>608</td>\n",
       "      <td>2</td>\n",
       "      <td>0</td>\n",
       "      <td>41</td>\n",
       "      <td>1</td>\n",
       "      <td>83807.86</td>\n",
       "      <td>1</td>\n",
       "      <td>0</td>\n",
       "      <td>1</td>\n",
       "      <td>112542.58</td>\n",
       "      <td>0</td>\n",
       "    </tr>\n",
       "    <tr>\n",
       "      <th>2</th>\n",
       "      <td>502</td>\n",
       "      <td>0</td>\n",
       "      <td>0</td>\n",
       "      <td>42</td>\n",
       "      <td>8</td>\n",
       "      <td>159660.80</td>\n",
       "      <td>3</td>\n",
       "      <td>1</td>\n",
       "      <td>0</td>\n",
       "      <td>113931.57</td>\n",
       "      <td>1</td>\n",
       "    </tr>\n",
       "  </tbody>\n",
       "</table>\n",
       "</div>"
      ],
      "text/plain": [
       "   CreditScore  Geography  Gender  Age  Tenure    Balance  NumOfProducts  \\\n",
       "0          619          0       0   42       2       0.00              1   \n",
       "1          608          2       0   41       1   83807.86              1   \n",
       "2          502          0       0   42       8  159660.80              3   \n",
       "\n",
       "   HasCrCard  IsActiveMember  EstimatedSalary  Exited  \n",
       "0          1               1        101348.88       1  \n",
       "1          0               1        112542.58       0  \n",
       "2          1               0        113931.57       1  "
      ]
     },
     "execution_count": 129,
     "metadata": {},
     "output_type": "execute_result"
    }
   ],
   "source": [
    "df.head(3)"
   ]
  },
  {
   "cell_type": "markdown",
   "id": "0cd4eebc",
   "metadata": {},
   "source": [
    "### Split and normalization"
   ]
  },
  {
   "cell_type": "code",
   "execution_count": 134,
   "id": "b447bc4f",
   "metadata": {},
   "outputs": [],
   "source": [
    "X = df.iloc[:,:-1]\n",
    "y = df.iloc[:,-1]"
   ]
  },
  {
   "cell_type": "code",
   "execution_count": 141,
   "id": "450854bd",
   "metadata": {},
   "outputs": [],
   "source": [
    "# normalization\n",
    "from sklearn.preprocessing import MinMaxScaler"
   ]
  },
  {
   "cell_type": "code",
   "execution_count": 143,
   "id": "110dd1f9",
   "metadata": {},
   "outputs": [],
   "source": [
    "scaler = MinMaxScaler()\n",
    "X_normalized = scaler.fit_transform(X)"
   ]
  },
  {
   "cell_type": "code",
   "execution_count": 144,
   "id": "826b0e29",
   "metadata": {},
   "outputs": [
    {
     "data": {
      "text/plain": [
       "array([[0.538     , 0.        , 0.        , ..., 1.        , 1.        ,\n",
       "        0.50673489],\n",
       "       [0.516     , 1.        , 0.        , ..., 0.        , 1.        ,\n",
       "        0.56270874],\n",
       "       [0.304     , 0.        , 0.        , ..., 1.        , 0.        ,\n",
       "        0.56965435],\n",
       "       ...,\n",
       "       [0.718     , 0.        , 0.        , ..., 0.        , 1.        ,\n",
       "        0.21039009],\n",
       "       [0.844     , 0.5       , 1.        , ..., 1.        , 0.        ,\n",
       "        0.46442905],\n",
       "       [0.884     , 0.        , 0.        , ..., 1.        , 0.        ,\n",
       "        0.19091423]])"
      ]
     },
     "execution_count": 144,
     "metadata": {},
     "output_type": "execute_result"
    }
   ],
   "source": [
    "X_normalized"
   ]
  },
  {
   "cell_type": "code",
   "execution_count": 145,
   "id": "42b96eba",
   "metadata": {},
   "outputs": [],
   "source": [
    "from sklearn.model_selection import train_test_split\n",
    "X_train,X_test,y_train,y_test = train_test_split(X_normalized,y,test_size = 0.25, random_state = 42,shuffle = True)"
   ]
  },
  {
   "cell_type": "code",
   "execution_count": 146,
   "id": "0e506824",
   "metadata": {},
   "outputs": [
    {
     "name": "stdout",
     "output_type": "stream",
     "text": [
      "Original set\t-->\t((10000, 10), (10000,))\n",
      "Training set\t-->\t((7500, 10), (7500,))\n",
      "Testing set\t-->\t((2500, 10), (2500,))\n"
     ]
    }
   ],
   "source": [
    "print(f\"Original set\\t-->\\t{(X.shape,y.shape)}\")\n",
    "print(f\"Training set\\t-->\\t{(X_train.shape,y_train.shape)}\")\n",
    "print(f\"Testing set\\t-->\\t{(X_test.shape,y_test.shape)}\")"
   ]
  },
  {
   "cell_type": "code",
   "execution_count": 149,
   "id": "a401bae0",
   "metadata": {},
   "outputs": [],
   "source": [
    "from sklearn.neural_network import MLPClassifier"
   ]
  },
  {
   "cell_type": "code",
   "execution_count": 181,
   "id": "90eff1ca",
   "metadata": {
    "scrolled": true
   },
   "outputs": [
    {
     "name": "stdout",
     "output_type": "stream",
     "text": [
      "Iteration 1, loss = 0.54372839\n",
      "Iteration 2, loss = 0.50543869\n",
      "Iteration 3, loss = 0.50271023\n",
      "Iteration 4, loss = 0.49938518\n",
      "Iteration 5, loss = 0.49666294\n",
      "Iteration 6, loss = 0.49371894\n",
      "Iteration 7, loss = 0.49040187\n",
      "Iteration 8, loss = 0.48715887\n",
      "Iteration 9, loss = 0.48447362\n",
      "Iteration 10, loss = 0.48096116\n",
      "Iteration 11, loss = 0.47784036\n",
      "Iteration 12, loss = 0.47503614\n",
      "Iteration 13, loss = 0.47250559\n",
      "Iteration 14, loss = 0.46984522\n",
      "Iteration 15, loss = 0.46709362\n",
      "Iteration 16, loss = 0.46469141\n",
      "Iteration 17, loss = 0.46299891\n",
      "Iteration 18, loss = 0.46081924\n",
      "Iteration 19, loss = 0.45908893\n",
      "Iteration 20, loss = 0.45738859\n",
      "Iteration 21, loss = 0.45556103\n",
      "Iteration 22, loss = 0.45410981\n",
      "Iteration 23, loss = 0.45353099\n",
      "Iteration 24, loss = 0.45112926\n",
      "Iteration 25, loss = 0.45047019\n",
      "Iteration 26, loss = 0.44823017\n",
      "Iteration 27, loss = 0.44744207\n",
      "Iteration 28, loss = 0.44618066\n",
      "Iteration 29, loss = 0.44521189\n",
      "Iteration 30, loss = 0.44435467\n",
      "Iteration 31, loss = 0.44333342\n",
      "Iteration 32, loss = 0.44282866\n",
      "Iteration 33, loss = 0.44187374\n",
      "Iteration 34, loss = 0.44226365\n",
      "Iteration 35, loss = 0.44078147\n",
      "Iteration 36, loss = 0.44061375\n",
      "Iteration 37, loss = 0.44019951\n",
      "Iteration 38, loss = 0.44006097\n",
      "Iteration 39, loss = 0.43940344\n",
      "Iteration 40, loss = 0.43883211\n",
      "Iteration 41, loss = 0.43916131\n",
      "Iteration 42, loss = 0.43859786\n",
      "Iteration 43, loss = 0.43825502\n",
      "Iteration 44, loss = 0.43829656\n",
      "Iteration 45, loss = 0.43803855\n",
      "Iteration 46, loss = 0.43777239\n",
      "Iteration 47, loss = 0.43777613\n",
      "Iteration 48, loss = 0.43794446\n",
      "Iteration 49, loss = 0.43871139\n",
      "Iteration 50, loss = 0.43758201\n",
      "Iteration 51, loss = 0.43809058\n",
      "Iteration 52, loss = 0.43747675\n",
      "Iteration 53, loss = 0.43818567\n",
      "Iteration 54, loss = 0.43826379\n",
      "Iteration 55, loss = 0.43792995\n",
      "Iteration 56, loss = 0.43739102\n",
      "Iteration 57, loss = 0.43751425\n",
      "Iteration 58, loss = 0.43769538\n",
      "Iteration 59, loss = 0.43738286\n",
      "Iteration 60, loss = 0.43752115\n",
      "Iteration 61, loss = 0.43747599\n",
      "Iteration 62, loss = 0.43723286\n",
      "Iteration 63, loss = 0.43754230\n",
      "Iteration 64, loss = 0.43742269\n",
      "Iteration 65, loss = 0.43712711\n",
      "Iteration 66, loss = 0.43813554\n",
      "Iteration 67, loss = 0.43819573\n",
      "Iteration 68, loss = 0.43732794\n",
      "Iteration 69, loss = 0.43737280\n",
      "Iteration 70, loss = 0.43771123\n",
      "Iteration 71, loss = 0.43699707\n",
      "Iteration 72, loss = 0.43805512\n",
      "Iteration 73, loss = 0.43748914\n",
      "Iteration 74, loss = 0.43709106\n",
      "Iteration 75, loss = 0.43786143\n",
      "Iteration 76, loss = 0.43693490\n",
      "Iteration 77, loss = 0.43759339\n",
      "Iteration 78, loss = 0.43712665\n",
      "Iteration 79, loss = 0.43734731\n",
      "Iteration 80, loss = 0.43741504\n",
      "Iteration 81, loss = 0.43704516\n",
      "Iteration 82, loss = 0.43785794\n",
      "Training loss did not improve more than tol=0.000100 for 10 consecutive epochs. Stopping.\n",
      "Mean accuracy of model = 0.8092\n"
     ]
    }
   ],
   "source": [
    "clf = MLPClassifier(solver = 'adam',alpha=1e-5,verbose = True,activation = \"logistic\",max_iter = 300)\n",
    "model = clf.fit(X_train,y_train)\n",
    "mean_accuracy = model.score(X_test,y_test)\n",
    "print(f\"Mean accuracy of model = {mean_accuracy}\")"
   ]
  },
  {
   "cell_type": "code",
   "execution_count": 182,
   "id": "83b2c0ad",
   "metadata": {
    "scrolled": true
   },
   "outputs": [
    {
     "name": "stdout",
     "output_type": "stream",
     "text": [
      "Mean accuracy of model = 0.8616\n"
     ]
    }
   ],
   "source": [
    "clf = MLPClassifier(solver = 'lbfgs',alpha=1e-5,activation = \"relu\",max_iter = 300)\n",
    "model = clf.fit(X_train,y_train)\n",
    "mean_accuracy = model.score(X_test,y_test)\n",
    "print(f\"Mean accuracy of model = {mean_accuracy}\")"
   ]
  },
  {
   "cell_type": "code",
   "execution_count": 183,
   "id": "907e825d",
   "metadata": {},
   "outputs": [
    {
     "name": "stdout",
     "output_type": "stream",
     "text": [
      "Mean accuracy of model = 0.8632\n"
     ]
    }
   ],
   "source": [
    "#alpha for L2 regularization\n",
    "\n",
    "clf = MLPClassifier(solver = 'lbfgs',alpha=1e-5,activation = \"logistic\",max_iter = 300)\n",
    "model = clf.fit(X_train,y_train)\n",
    "mean_accuracy = model.score(X_test,y_test)\n",
    "print(f\"Mean accuracy of model = {mean_accuracy}\")"
   ]
  },
  {
   "cell_type": "code",
   "execution_count": 184,
   "id": "66bdd238",
   "metadata": {},
   "outputs": [],
   "source": [
    "y_test_pred = model.predict(X_test)"
   ]
  },
  {
   "cell_type": "code",
   "execution_count": 186,
   "id": "1b381851",
   "metadata": {},
   "outputs": [],
   "source": [
    "from sklearn.metrics import classification_report,confusion_matrix"
   ]
  },
  {
   "cell_type": "code",
   "execution_count": 187,
   "id": "626a4543",
   "metadata": {},
   "outputs": [
    {
     "data": {
      "text/plain": [
       "array([[1930,   73],\n",
       "       [ 269,  228]], dtype=int64)"
      ]
     },
     "execution_count": 187,
     "metadata": {},
     "output_type": "execute_result"
    }
   ],
   "source": [
    "confusion_matrix(y_test,y_test_pred)"
   ]
  },
  {
   "cell_type": "code",
   "execution_count": 190,
   "id": "ec4159c2",
   "metadata": {},
   "outputs": [
    {
     "name": "stdout",
     "output_type": "stream",
     "text": [
      "              precision    recall  f1-score   support\n",
      "\n",
      "  Not exited       0.88      0.96      0.92      2003\n",
      "      Exited       0.76      0.46      0.57       497\n",
      "\n",
      "    accuracy                           0.86      2500\n",
      "   macro avg       0.82      0.71      0.75      2500\n",
      "weighted avg       0.85      0.86      0.85      2500\n",
      "\n"
     ]
    }
   ],
   "source": [
    "print(classification_report(y_test,y_test_pred,target_names = [\"Not exited\",\"Exited\"]))"
   ]
  }
 ],
 "metadata": {
  "kernelspec": {
   "display_name": "Python 3 (ipykernel)",
   "language": "python",
   "name": "python3"
  },
  "language_info": {
   "codemirror_mode": {
    "name": "ipython",
    "version": 3
   },
   "file_extension": ".py",
   "mimetype": "text/x-python",
   "name": "python",
   "nbconvert_exporter": "python",
   "pygments_lexer": "ipython3",
   "version": "3.8.5"
  }
 },
 "nbformat": 4,
 "nbformat_minor": 5
}
